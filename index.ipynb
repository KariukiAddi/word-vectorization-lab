{
 "cells": [
  {
   "cell_type": "markdown",
   "metadata": {},
   "source": [
    "# Word Vectorization - Lab\n",
    "\n",
    "## Introduction\n",
    "\n",
    "In this lab, you'll tokenize and vectorize text documents, create and use a bag of words, and identify words unique to individual documents using TF-IDF vectorization. \n",
    "\n",
    "\n",
    "## Objectives\n",
    "\n",
    "In this lab you will:  \n",
    "\n",
    "- Implement tokenization and count vectorization from scratch \n",
    "- Implement TF-IDF from scratch \n",
    "- Use dimensionality reduction on vectorized text data to create and interpret visualizations \n",
    "\n",
    "## Let's get started!\n",
    "\n",
    "Run the cell below to import everything necessary for this lab.  "
   ]
  },
  {
   "cell_type": "code",
   "execution_count": 1,
   "metadata": {},
   "outputs": [],
   "source": [
    "import pandas as pd\n",
    "import numpy as np\n",
    "from mpl_toolkits.mplot3d import Axes3D\n",
    "import matplotlib.pyplot as plt\n",
    "%matplotlib inline\n",
    "from sklearn.manifold import TSNE\n",
    "from nltk.tokenize import word_tokenize\n",
    "import nltk\n",
    "nltk.download('punkt', quiet=True)\n",
    "np.random.seed(0)"
   ]
  },
  {
   "cell_type": "markdown",
   "metadata": {},
   "source": [
    "### Our Corpus\n",
    "\n",
    "In this lab, we'll be working with 20 different documents, each containing song lyrics from either Garth Brooks or Kendrick Lamar albums.  \n",
    "\n",
    "The songs are contained within the `data` subdirectory, contained within the same folder as this lab.  Each song is stored in a single file, with files ranging from `song1.txt` to `song20.txt`.  \n",
    "\n",
    "To make it easy to read in all of the documents, use a list comprehension to create a list containing the name of every single song file in the cell below. "
   ]
  },
  {
   "cell_type": "code",
   "execution_count": 2,
   "metadata": {},
   "outputs": [],
   "source": [
    "filenames = [f\"data/song{i}.txt\" for i in range(1, 21)]"
   ]
  },
  {
   "cell_type": "markdown",
   "metadata": {},
   "source": [
    "Next, let's import a single song to see what our text looks like so that we can make sure we clean and tokenize it correctly. \n",
    "\n",
    "Use the code in the cell below to read in the lyrics from `song18.txt` as a list of lines, just using vanilla Python:"
   ]
  },
  {
   "cell_type": "code",
   "execution_count": 3,
   "metadata": {},
   "outputs": [
    {
     "data": {
      "text/plain": [
       "['[Kendrick Lamar:]\\n',\n",
       " \"Two wrongs don't make us right away\\n\",\n",
       " \"Tell me something's wrong\\n\",\n",
       " 'Party all of our lives away\\n',\n",
       " 'To take you on\\n',\n",
       " '[Zacari:]\\n',\n",
       " 'Oh, baby I want you\\n',\n",
       " 'Baby I need you\\n',\n",
       " 'I wanna see you\\n',\n",
       " 'Baby I wanna go out yeah\\n',\n",
       " 'Baby I wanna go out yeah\\n',\n",
       " 'Baby I want you\\n',\n",
       " 'Baby I need you\\n',\n",
       " 'I wanna see you\\n',\n",
       " 'Baby I wanna go out yeah\\n',\n",
       " 'Baby I wanna go out yeah\\n',\n",
       " 'All night (all night, all night)\\n',\n",
       " 'All night\\n',\n",
       " \"Your body's on fire\\n\",\n",
       " 'And your drinks on ice\\n',\n",
       " 'All night (all night, all night)\\n',\n",
       " 'All night\\n',\n",
       " \"Your body's on fire\\n\",\n",
       " 'And your drinks on ice\\n',\n",
       " '[Babes Wodumo:]\\n',\n",
       " 'Oh my word oh my gosh oh my word (Oh my gosh)\\n',\n",
       " 'Oh my word oh my gosh oh my word (Oh my gosh)\\n',\n",
       " 'Oh my word oh my gosh oh my word (Oh my gosh)\\n',\n",
       " 'Oh my word oh my gosh oh my word (Oh my gosh)\\n',\n",
       " 'Everybody say kikiritikiki (kikiritikiki)\\n',\n",
       " 'Everybody say kikiritikiki (kikiritikiki)\\n',\n",
       " 'Everybody say kikiritikiki (kikiritikiki)\\n',\n",
       " 'Everybody say kikiritikiki (kikiritikiki)\\n',\n",
       " \"Ung'bambe, ung'dedele. Ung'bhasobhe, ung'gudluke\\n\",\n",
       " \"Ung'bambe, ung'dedele. Ung'bhasobhe, ung'gudluke\\n\",\n",
       " \"Ung'bambe, ung'dedele. Ung'bhasobhe, ung'gudluke\\n\",\n",
       " \"Ung'bambe, ung'dedele. Ung'bhasobhe, ung'gudluke\\n\",\n",
       " '[Zacari:]\\n',\n",
       " 'Baby I want you\\n',\n",
       " 'Baby I need you\\n',\n",
       " 'I wanna see you\\n',\n",
       " 'Baby I wanna go out yeah\\n',\n",
       " 'Baby I wanna go out yeah\\n',\n",
       " 'Baby I want you\\n',\n",
       " 'Baby I need you\\n',\n",
       " 'I wanna see you\\n',\n",
       " 'Baby I wanna go out yeah\\n',\n",
       " 'Baby I wanna go out yeah\\n',\n",
       " 'All night (all night all night)\\n',\n",
       " 'All night\\n',\n",
       " \"Your body's on fire\\n\",\n",
       " 'And your drinks on ice\\n',\n",
       " 'All night (all night all night)\\n',\n",
       " 'All night\\n',\n",
       " \"Your body's on fire\\n\",\n",
       " 'And your drinks on ice\\n',\n",
       " '[Kendrick Lamar:]\\n',\n",
       " '(We go)\\n',\n",
       " 'High up (High up)\\n',\n",
       " 'High up (High up)\\n',\n",
       " 'High up (High up)\\n',\n",
       " 'High up (High up)\\n',\n",
       " 'High up (High up)\\n',\n",
       " 'High up (High up)\\n',\n",
       " 'High up (High up)\\n',\n",
       " 'High up (High up)\\n',\n",
       " '[?]\\n',\n",
       " '[Zacari:]\\n',\n",
       " 'Baby I want you\\n',\n",
       " 'Baby I need you\\n',\n",
       " 'I wanna see you\\n',\n",
       " 'Baby I wanna go out yeah\\n',\n",
       " 'Baby I wanna go out yeah\\n',\n",
       " 'Baby I want you\\n',\n",
       " 'Baby I need you\\n',\n",
       " 'I wanna see you\\n',\n",
       " 'Baby I wanna go out yeah\\n',\n",
       " 'Baby I wanna go out yeah\\n',\n",
       " 'All night (all night all night)\\n',\n",
       " 'All night\\n',\n",
       " \"Your body's on fire\\n\",\n",
       " 'And your drinks on ice\\n',\n",
       " 'All night (all night all night)\\n',\n",
       " 'All night\\n',\n",
       " \"Your body's on fire\\n\",\n",
       " 'And your drinks on ice\\n']"
      ]
     },
     "execution_count": 3,
     "metadata": {},
     "output_type": "execute_result"
    }
   ],
   "source": [
    "# Import and print song18.txt\n",
    "with open('data/song18.txt') as f:\n",
    "    test_song = f.readlines()\n",
    "    \n",
    "test_song"
   ]
  },
  {
   "cell_type": "markdown",
   "metadata": {},
   "source": [
    "### Tokenizing our Data\n",
    "\n",
    "Before we can create a bag of words or vectorize each document, we need to clean it up and split each song into an array of individual words.\n",
    "\n",
    "Consider the following sentences from the example above:\n",
    "\n",
    "`\"Two wrongs don't make us right away\\n\", \"Tell me something's wrong\\n\"`\n",
    "\n",
    "After tokenization, this should look like:\n",
    "\n",
    "`['two', 'wrongs', 'dont', 'make', 'us', 'right', 'away', 'tell', 'me', 'somethings', 'wrong']`\n",
    "\n",
    "Tokenization is pretty tedious if we handle it manually, and would probably make use of regular expressions, which is outside the scope of this lab. In order to keep this lab moving, we'll use a library function to clean and tokenize our data so that we can move onto vectorization.  \n",
    "\n",
    "Tokenization is a required task for just about any Natural Language Processing (NLP) task, so great industry-standard tools exist to tokenize things for us, so that we can spend our time on more important tasks without getting bogged down hunting every special symbol or punctuation in a massive dataset. For this lab, we'll make use of the tokenizer in the amazing `nltk` library, which is short for _Natural Language Tool Kit_.\n",
    "\n",
    "**_NOTE:_** NLTK requires extra installation methods to be run the first time certain methods are used.  If `nltk` throws you an error about needing to install additional packages, follow the instructions in the error message to install the dependencies, and then rerun the cell.  "
   ]
  },
  {
   "cell_type": "markdown",
   "metadata": {},
   "source": [
    "Before we tokenize, however, we need to do one more step! Computers are very particular about strings. If we tokenized our data in its current state, we would run into the following problems:\n",
    "\n",
    "- Counting things that aren't actually words.  In the example above, `\"[Kendrick Lamar:]\"` is a note specifying who is speaking, not a lyric contained in the actual song, so it should be removed. \n",
    "- Punctuation and capitalization would mess up our word counts. To the Python interpreter, `all`, `All`, and `(all` are unique words, and would all be counted separately.  We need to remove punctuation and capitalization, so that all words will be counted correctly. \n",
    "\n",
    "Before we tokenize our songs, we'll do only a small manual bit of cleaning. \n",
    "\n",
    "In the cell below, write a function to:\n",
    "- remove lines that just contain `['artist names']`\n",
    "- join the list of strings into one big string for the entire song\n",
    "- remove newline characters `\\n`\n",
    "- remove the following punctuation marks: `\",.'?!()\"`\n",
    "- make every word lowercase\n",
    "\n",
    "Test the function on `test_song` to show that it has successfully removed `'[Kendrick Lamar:]'` and other instances of artist names from the song, and is returning the song as one string (NOT a list of strings) with newlines (`\\n`) and punctuation removed and every word in lowercase."
   ]
  },
  {
   "cell_type": "code",
   "execution_count": 5,
   "metadata": {},
   "outputs": [
    {
     "name": "stdout",
     "output_type": "stream",
     "text": [
      "two wrongs dont make us right away  tell me somethings wrong  party all of our lives away  to take you on  [zacari:]  oh baby i want you  baby i need you  i wanna see you  baby i wanna go out yeah  baby i wanna go out yeah  baby i want you  baby i need you  i wanna see you  baby i wanna go out yeah  baby i wanna go out yeah  all night all night all night  all night  your bodys on fire  and your drinks on ice  all night all night all night  all night  your bodys on fire  and your drinks on ice  [babes wodumo:]  oh my word oh my gosh oh my word oh my gosh  oh my word oh my gosh oh my word oh my gosh  oh my word oh my gosh oh my word oh my gosh  oh my word oh my gosh oh my word oh my gosh  everybody say kikiritikiki kikiritikiki  everybody say kikiritikiki kikiritikiki  everybody say kikiritikiki kikiritikiki  everybody say kikiritikiki kikiritikiki  ungbambe ungdedele ungbhasobhe unggudluke  ungbambe ungdedele ungbhasobhe unggudluke  ungbambe ungdedele ungbhasobhe unggudluke  ungbambe ungdedele ungbhasobhe unggudluke  [zacari:]  baby i want you  baby i need you  i wanna see you  baby i wanna go out yeah  baby i wanna go out yeah  baby i want you  baby i need you  i wanna see you  baby i wanna go out yeah  baby i wanna go out yeah  all night all night all night  all night  your bodys on fire  and your drinks on ice  all night all night all night  all night  your bodys on fire  and your drinks on ice  we go  high up high up  high up high up  high up high up  high up high up  high up high up  high up high up  high up high up  high up high up  []  [zacari:]  baby i want you  baby i need you  i wanna see you  baby i wanna go out yeah  baby i wanna go out yeah  baby i want you  baby i need you  i wanna see you  baby i wanna go out yeah  baby i wanna go out yeah  all night all night all night  all night  your bodys on fire  and your drinks on ice  all night all night all night  all night  your bodys on fire  and your drinks on ice \n"
     ]
    }
   ],
   "source": [
    "def clean_song(song_lines):\n",
    "    # Remove lines containing artist names\n",
    "    song_lines = [line for line in song_lines if not any(artist_name in line.lower() for artist_name in ['kendrick lamar:', 'garth brooks:'])]\n",
    "\n",
    "    # Join the lines into one big string for the entire song\n",
    "    song_text = \" \".join(song_lines)\n",
    "\n",
    "    # Remove newline characters\n",
    "    song_text = song_text.replace(\"\\n\", \" \")\n",
    "\n",
    "    # Remove specified punctuation marks (\",.'?!()\")\n",
    "    punctuation_marks = \"',.'?!()\"\n",
    "    for punctuation_mark in punctuation_marks:\n",
    "        song_text = song_text.replace(punctuation_mark, \"\")\n",
    "\n",
    "    # Convert all words to lowercase\n",
    "    song_text = song_text.lower()\n",
    "\n",
    "    return song_text\n",
    "\n",
    "# Clean the test song\n",
    "clean_test_song = clean_song(test_song)\n",
    "print(clean_test_song)"
   ]
  },
  {
   "cell_type": "markdown",
   "metadata": {},
   "source": [
    "Great! Now, we can use `nltk`'s `word_tokenize()` function on the song string to get a fully tokenized version of the song. Test this function on `clean_test_song` to ensure that the function works. "
   ]
  },
  {
   "cell_type": "code",
   "execution_count": 6,
   "metadata": {},
   "outputs": [
    {
     "name": "stdout",
     "output_type": "stream",
     "text": [
      "['two', 'wrongs', 'dont', 'make', 'us', 'right', 'away', 'tell', 'me', 'somethings', 'wrong', 'party', 'all', 'of', 'our', 'lives', 'away', 'to', 'take', 'you', 'on', '[', 'zacari', ':', ']', 'oh', 'baby', 'i', 'want', 'you', 'baby', 'i', 'need', 'you', 'i', 'wan', 'na', 'see', 'you', 'baby', 'i', 'wan', 'na', 'go', 'out', 'yeah', 'baby', 'i', 'wan', 'na', 'go', 'out', 'yeah', 'baby', 'i', 'want', 'you', 'baby', 'i', 'need', 'you', 'i', 'wan', 'na', 'see', 'you', 'baby', 'i', 'wan', 'na', 'go', 'out', 'yeah', 'baby', 'i', 'wan', 'na', 'go', 'out', 'yeah', 'all', 'night', 'all', 'night', 'all', 'night', 'all', 'night', 'your', 'bodys', 'on', 'fire', 'and', 'your', 'drinks', 'on', 'ice', 'all', 'night', 'all', 'night', 'all', 'night', 'all', 'night', 'your', 'bodys', 'on', 'fire', 'and', 'your', 'drinks', 'on', 'ice', '[', 'babes', 'wodumo', ':', ']', 'oh', 'my', 'word', 'oh', 'my', 'gosh', 'oh', 'my', 'word', 'oh', 'my', 'gosh', 'oh', 'my', 'word', 'oh', 'my', 'gosh', 'oh', 'my', 'word', 'oh', 'my', 'gosh', 'oh', 'my', 'word', 'oh', 'my', 'gosh', 'oh', 'my', 'word', 'oh', 'my', 'gosh', 'oh', 'my', 'word', 'oh', 'my', 'gosh', 'oh', 'my', 'word', 'oh', 'my', 'gosh', 'everybody', 'say', 'kikiritikiki', 'kikiritikiki', 'everybody', 'say', 'kikiritikiki', 'kikiritikiki', 'everybody', 'say', 'kikiritikiki', 'kikiritikiki', 'everybody', 'say', 'kikiritikiki', 'kikiritikiki', 'ungbambe', 'ungdedele', 'ungbhasobhe', 'unggudluke', 'ungbambe', 'ungdedele', 'ungbhasobhe', 'unggudluke', 'ungbambe', 'ungdedele', 'ungbhasobhe', 'unggudluke', 'ungbambe', 'ungdedele', 'ungbhasobhe', 'unggudluke', '[', 'zacari', ':', ']', 'baby', 'i', 'want', 'you', 'baby', 'i', 'need', 'you', 'i', 'wan', 'na', 'see', 'you', 'baby', 'i', 'wan', 'na', 'go', 'out', 'yeah', 'baby', 'i', 'wan', 'na', 'go', 'out', 'yeah', 'baby', 'i', 'want', 'you', 'baby', 'i', 'need', 'you', 'i', 'wan', 'na', 'see', 'you', 'baby', 'i', 'wan', 'na', 'go', 'out', 'yeah', 'baby', 'i', 'wan', 'na', 'go', 'out', 'yeah', 'all', 'night', 'all', 'night', 'all', 'night', 'all', 'night', 'your', 'bodys', 'on', 'fire', 'and', 'your', 'drinks', 'on', 'ice', 'all', 'night', 'all', 'night', 'all', 'night', 'all', 'night', 'your', 'bodys', 'on', 'fire', 'and', 'your', 'drinks', 'on', 'ice', 'we', 'go', 'high', 'up', 'high', 'up', 'high', 'up', 'high', 'up', 'high', 'up', 'high', 'up', 'high', 'up', 'high', 'up', 'high', 'up', 'high', 'up', 'high', 'up', 'high', 'up', 'high', 'up', 'high', 'up', 'high', 'up', 'high', 'up', '[', ']', '[', 'zacari', ':', ']', 'baby', 'i', 'want', 'you', 'baby', 'i', 'need', 'you', 'i', 'wan', 'na', 'see', 'you', 'baby', 'i', 'wan', 'na', 'go', 'out', 'yeah', 'baby', 'i', 'wan', 'na', 'go', 'out', 'yeah', 'baby', 'i', 'want', 'you', 'baby', 'i', 'need', 'you', 'i', 'wan', 'na', 'see', 'you', 'baby', 'i', 'wan', 'na', 'go', 'out', 'yeah', 'baby', 'i', 'wan', 'na', 'go', 'out', 'yeah', 'all', 'night', 'all', 'night', 'all', 'night', 'all', 'night', 'your', 'bodys', 'on', 'fire', 'and', 'your', 'drinks', 'on', 'ice', 'all', 'night', 'all', 'night', 'all', 'night', 'all', 'night', 'your', 'bodys', 'on', 'fire', 'and', 'your', 'drinks', 'on', 'ice']\n"
     ]
    }
   ],
   "source": [
    "tokenized_test_song = word_tokenize(clean_test_song)\n",
    "print(tokenized_test_song)"
   ]
  },
  {
   "cell_type": "markdown",
   "metadata": {},
   "source": [
    "Great! Now that we can tokenize our songs, we can move onto vectorization. \n",
    "\n",
    "\n",
    "### Count Vectorization\n",
    "\n",
    "Machine Learning algorithms don't understand strings. However, they do understand math, which means they understand vectors and matrices.  By **_Vectorizing_** the text, we just convert the entire text into a vector, where each element in the vector represents a different word. The vector is the length of the entire vocabulary -- usually, every word that occurs in the English language, or at least every word that appears in our corpus.  Any given sentence can then be represented as a vector where all the vector is 1 (or some other value) for each time that word appears in the sentence. \n",
    "\n",
    "Consider the following example: \n",
    "\n",
    "<center>\"I scream, you scream, we all scream for ice cream.\"</center>\n",
    "\n",
    "| 'aardvark' | 'apple' | [...] | 'I' | 'you' | 'scream' | 'we' | 'all' | 'for' | 'ice' | 'cream' | [...] | 'xylophone' | 'zebra' |\n",
    "|:----------:|:-------:|:-----:|:---:|:-----:|:--------:|:----:|:-----:|:-----:|:-----:|:-------:|:-----:|:-----------:|:-------:|\n",
    "|      0     |    0    |   0   |  1  |   1   |     3    |   1  |   1   |   1   |   1   |    1    |   0   |      0      |    0    |\n",
    "\n",
    "This is called a **_Sparse Representation_**, since the strong majority of the columns will have a value of 0.  Note that elements corresponding to words that do not occur in the sentence have a value of 0, while words that do appear in the sentence have a value of 1 (or 1 for each time it appears in the sentence).\n",
    "\n",
    "Alternatively, we can represent this sentence as a plain old Python dictionary of word frequency counts:\n",
    "\n",
    "```python\n",
    "BoW = {\n",
    "    'I':1,\n",
    "    'you':1,\n",
    "    'scream':3,\n",
    "    'we':1,\n",
    "    'all':1,\n",
    "    'for':1,\n",
    "    'ice':1,\n",
    "    'cream':1\n",
    "}\n",
    "```\n",
    "\n",
    "Both of these are examples of **_Count Vectorization_**. They allow us to represent a sentence as a vector, with each element in the vector corresponding to how many times that word is used.\n",
    "\n",
    "#### Positional Information and Bag of Words\n",
    "\n",
    "Notice that when we vectorize a sentence this way, we lose the order that the words were in.  This is the **_Bag of Words_** approach mentioned earlier.  Note that sentences that contain the same words will create the same vectors, even if they mean different things -- e.g. `'cats are scared of dogs'` and `'dogs are scared of cats'` would both produce the exact same vector, since they contain the same words.  "
   ]
  },
  {
   "cell_type": "markdown",
   "metadata": {},
   "source": [
    "In the cell below, create a function that takes in a tokenized, cleaned song and returns a count vectorized representation of it as a Python dictionary.\n",
    "\n",
    "**_Hint:_**  Consider using a `set()` since you'll need each unique word in the tokenized song! "
   ]
  },
  {
   "cell_type": "code",
   "execution_count": 7,
   "metadata": {},
   "outputs": [
    {
     "name": "stdout",
     "output_type": "stream",
     "text": [
      "{'two': 1, 'wrongs': 1, 'dont': 1, 'make': 1, 'us': 1, 'right': 1, 'away': 2, 'tell': 1, 'me': 1, 'somethings': 1, 'wrong': 1, 'party': 1, 'all': 25, 'of': 1, 'our': 1, 'lives': 1, 'to': 1, 'take': 1, 'you': 19, 'on': 13, '[': 5, 'zacari': 3, ':': 4, ']': 5, 'oh': 17, 'baby': 24, 'i': 30, 'want': 6, 'need': 6, 'wan': 18, 'na': 18, 'see': 6, 'go': 13, 'out': 12, 'yeah': 12, 'night': 24, 'your': 12, 'bodys': 6, 'fire': 6, 'and': 6, 'drinks': 6, 'ice': 6, 'babes': 1, 'wodumo': 1, 'my': 16, 'word': 8, 'gosh': 8, 'everybody': 4, 'say': 4, 'kikiritikiki': 8, 'ungbambe': 4, 'ungdedele': 4, 'ungbhasobhe': 4, 'unggudluke': 4, 'we': 1, 'high': 16, 'up': 16}\n"
     ]
    }
   ],
   "source": [
    "def count_vectorize(tokenized_song):\n",
    "    # Initialize an empty dictionary to store word frequencies\n",
    "    word_frequencies = {}\n",
    "    \n",
    "    # Loop through each word in the tokenized song\n",
    "    for word in tokenized_song:\n",
    "        # If the word is not already in the dictionary, add it with a count of 1\n",
    "        if word not in word_frequencies:\n",
    "            word_frequencies[word] = 1\n",
    "        # If the word is already in the dictionary, increment its count by 1\n",
    "        else:\n",
    "            word_frequencies[word] += 1\n",
    "    \n",
    "    return word_frequencies\n",
    "\n",
    "# Vectorize the test song\n",
    "test_vectorized = count_vectorize(tokenized_test_song)\n",
    "print(test_vectorized)"
   ]
  },
  {
   "cell_type": "markdown",
   "metadata": {},
   "source": [
    "Great! You've just successfully vectorized your first text document! Now, let's look at a more advanced type of vectorization, TF-IDF!\n",
    "\n",
    "### TF-IDF Vectorization\n",
    "\n",
    "TF-IDF stands for **_Term Frequency, Inverse Document Frequency_**.  This is a more advanced form of vectorization that weighs each term in a document by how unique it is to the given document it is contained in, which allows us to summarize the contents of a document using a few key words.  If the word is used often in many other documents, it is not unique, and therefore probably not too useful if we wanted to figure out how this document is unique in relation to other documents. Conversely, if a word is used many times in a document, but rarely in all the other documents we are considering, then it is likely a good indicator for telling us that this word is important to the document in question.  \n",
    "\n",
    "The formula TF-IDF uses to determine the weights of each term in a document is **_Term Frequency_** multiplied by **_Inverse Document Frequency_**. We just calculated our Term Frequency above with Count Vectorization!"
   ]
  },
  {
   "cell_type": "markdown",
   "metadata": {},
   "source": [
    "Now that we have this, we can easily calculate _Inverse Document Frequency_. Note that this will need ALL of our documents (aka our songs), not just an individual document - so we'll put off testing this function for now.\n",
    "\n",
    "In the cell below, complete a function that takes in a list of tokenized songs, with each item in the list being a clean, tokenized version of the song. The function should return a dictionary containing the inverse document frequency values for each word.  \n",
    "\n",
    "The formula for Inverse Document Frequency is:  \n",
    "<br>  \n",
    "<br>\n",
    "$$\\large \\text{IDF}(t) =  log_e(\\frac{\\text{Total Number of Documents}}{\\text{Number of Documents with } t \\text{ in it}})$$"
   ]
  },
  {
   "cell_type": "code",
   "execution_count": 16,
   "metadata": {},
   "outputs": [
    {
     "name": "stdout",
     "output_type": "stream",
     "text": [
      "{'ungdedele': 0.0, 'us': 0.0, 'yeah': 0.0, 'party': 0.0, 'night': 0.0, 'babes': 0.0, 'away': 0.0, 'wan': 0.0, 'kikiritikiki': 0.0, 'ice': 0.0, 'to': 0.0, 'on': 0.0, 'word': 0.0, 'bodys': 0.0, 'you': 0.0, 'want': 0.0, 'see': 0.0, 'dont': 0.0, 'we': 0.0, 'right': 0.0, 'unggudluke': 0.0, 'high': 0.0, 'your': 0.0, 'ungbambe': 0.0, 'all': 0.0, 'ungbhasobhe': 0.0, 'wodumo': 0.0, 'up': 0.0, '[': 0.0, 'my': 0.0, 'baby': 0.0, 'make': 0.0, 'wrong': 0.0, ':': 0.0, 'of': 0.0, 'two': 0.0, 'me': 0.0, 'drinks': 0.0, 'i': 0.0, 'need': 0.0, 'say': 0.0, 'and': 0.0, 'take': 0.0, 'gosh': 0.0, 'oh': 0.0, 'fire': 0.0, 'tell': 0.0, 'zacari': 0.0, 'go': 0.0, 'somethings': 0.0, 'wrongs': 0.0, 'our': 0.0, ']': 0.0, 'out': 0.0, 'everybody': 0.0, 'na': 0.0, 'lives': 0.0}\n"
     ]
    }
   ],
   "source": [
    "import math\n",
    "def inverse_document_frequency(list_of_token_songs):\n",
    "    # Initialize a dictionary to store IDF values for each word\n",
    "    idf_values = {}\n",
    "    \n",
    "    # Total number of documents (songs)\n",
    "    total_documents = len(list_of_token_songs)\n",
    "    \n",
    "    # Iterate through each song in the list\n",
    "    for tokenized_song in list_of_token_songs:\n",
    "        # Create a set of unique words in the current song\n",
    "        unique_words = set(tokenized_song)\n",
    "        \n",
    "        # Iterate through unique words in the current song\n",
    "        for word in unique_words:\n",
    "            # If the word is not already in the IDF dictionary, initialize its count to 1\n",
    "            if word not in idf_values:\n",
    "                idf_values[word] = 1\n",
    "            # If the word is already in the IDF dictionary, increment its count by 1\n",
    "            else:\n",
    "                idf_values[word] += 1\n",
    "    \n",
    "    # Calculate IDF values for each word based on the counts\n",
    "    for word, count in idf_values.items():\n",
    "        idf_values[word] = math.log(total_documents / count)\n",
    "    \n",
    "    return idf_values\n",
    "\n",
    "# Test the inverse_document_frequency function (not using the entire dataset)\n",
    "test_idf_values = inverse_document_frequency([tokenized_test_song])\n",
    "print(test_idf_values)\n"
   ]
  },
  {
   "cell_type": "markdown",
   "metadata": {},
   "source": [
    "### Computing TF-IDF\n",
    "\n",
    "Now that we can compute both Term Frequency and Inverse Document Frequency, computing an overall TF-IDF value is simple! All we need to do is multiply the two values.  \n",
    "\n",
    "In the cell below, complete the `tf_idf()` function.  This function should take in a list of tokenized songs, just as the `inverse_document_frequency()` function did.  This function returns a new list of dictionaries, with each dictionary containing the tf-idf vectorized representation of a corresponding song document. You'll need to calculate the term frequency for each song using the `count_vectorize()` function we defined above.\n",
    "\n",
    "**_NOTE:_** Each document should contain the full vocabulary of the entire combined corpus! So, even if a song doesn't have the word \"kikiritikiki\" (a vocalization in our test song), it should have a dictionary entry with that word as the key and `0` as the value."
   ]
  },
  {
   "cell_type": "code",
   "execution_count": 12,
   "metadata": {},
   "outputs": [
    {
     "name": "stdout",
     "output_type": "stream",
     "text": [
      "[{'two': 0.0, 'wrongs': 0.0, 'dont': 0.0, 'make': 0.0, 'us': 0.0, 'right': 0.0, 'away': 0.0, 'tell': 0.0, 'me': 0.0, 'somethings': 0.0, 'wrong': 0.0, 'party': 0.0, 'all': 0.0, 'of': 0.0, 'our': 0.0, 'lives': 0.0, 'to': 0.0, 'take': 0.0, 'you': 0.0, 'on': 0.0, '[': 0.0, 'zacari': 0.0, ':': 0.0, ']': 0.0, 'oh': 0.0, 'baby': 0.0, 'i': 0.0, 'want': 0.0, 'need': 0.0, 'wan': 0.0, 'na': 0.0, 'see': 0.0, 'go': 0.0, 'out': 0.0, 'yeah': 0.0, 'night': 0.0, 'your': 0.0, 'bodys': 0.0, 'fire': 0.0, 'and': 0.0, 'drinks': 0.0, 'ice': 0.0, 'babes': 0.0, 'wodumo': 0.0, 'my': 0.0, 'word': 0.0, 'gosh': 0.0, 'everybody': 0.0, 'say': 0.0, 'kikiritikiki': 0.0, 'ungbambe': 0.0, 'ungdedele': 0.0, 'ungbhasobhe': 0.0, 'unggudluke': 0.0, 'we': 0.0, 'high': 0.0, 'up': 0.0}]\n"
     ]
    }
   ],
   "source": [
    "def tf_idf(list_of_token_songs):\n",
    "    # Calculate inverse document frequency (IDF) values\n",
    "    idf_values = inverse_document_frequency(list_of_token_songs)\n",
    "    \n",
    "    # Initialize a list to store TF-IDF representations for each song\n",
    "    tfidf_list = []\n",
    "    \n",
    "    # Loop through each tokenized song\n",
    "    for tokenized_song in list_of_token_songs:\n",
    "        # Calculate term frequency (TF) for the current song\n",
    "        tf = count_vectorize(tokenized_song)\n",
    "        \n",
    "        # Initialize a dictionary for the TF-IDF representation of the current song\n",
    "        tfidf_dict = {}\n",
    "        \n",
    "        # Loop through each unique word in the TF dictionary\n",
    "        for word, term_frequency in tf.items():\n",
    "            # Calculate TF-IDF value for the current word in the current song\n",
    "            tfidf_value = term_frequency * idf_values.get(word, 0)\n",
    "            \n",
    "            # Add the TF-IDF value to the dictionary\n",
    "            tfidf_dict[word] = tfidf_value\n",
    "        \n",
    "        # Append the TF-IDF representation of the current song to the list\n",
    "        tfidf_list.append(tfidf_dict)\n",
    "    \n",
    "    return tfidf_list\n",
    "\n",
    "# Test the tf_idf function (not using the entire dataset)\n",
    "test_tfidf_list = tf_idf([tokenized_test_song])\n",
    "print(test_tfidf_list)"
   ]
  },
  {
   "cell_type": "markdown",
   "metadata": {},
   "source": [
    "### Vectorizing All Documents\n",
    "\n",
    "Now that we've created all the necessary helper functions, we can load in all of our documents and run each through the vectorization pipeline we've just created.\n",
    "\n",
    "In the cell below, complete the `main()` function.  This function should take in a list of file names (provided for you in the `filenames` list we created at the start), and then:\n",
    "\n",
    "- Read in each document into a list of raw songs (where each song is a list of strings)\n",
    "- Tokenize each document into a list of cleaned and tokenized songs\n",
    "- Return a list of dictionaries vectorized using `tf-idf`, where each dictionary is a vectorized representation of each song "
   ]
  },
  {
   "cell_type": "code",
   "execution_count": 13,
   "metadata": {},
   "outputs": [],
   "source": [
    "def main(filenames):\n",
    "    # Initialize an empty list to store tokenized songs\n",
    "    tokenized_songs = []\n",
    "    \n",
    "    # Read in each document and tokenize it\n",
    "    for filename in filenames:\n",
    "        with open(filename) as f:\n",
    "            raw_song = f.readlines()\n",
    "            cleaned_tokenized_song = clean_song(raw_song)\n",
    "            tokenized_songs.append(cleaned_tokenized_song)\n",
    "    \n",
    "    # Calculate TF-IDF vectors for all tokenized songs\n",
    "    tf_idf_all_docs = tf_idf(tokenized_songs)\n",
    "    \n",
    "    return tf_idf_all_docs\n",
    "\n",
    "# Execute the main function with the list of filenames\n",
    "tf_idf_all_docs = main(filenames)"
   ]
  },
  {
   "cell_type": "markdown",
   "metadata": {},
   "source": [
    "### Level Up: Visualizing our Vectorizations (Optional)\n",
    "\n",
    "Now that we have a tf-idf representation of each document, we can move on to the fun part -- visualizing everything!\n",
    "\n",
    "In the cell below, examine our dictionaries to figure out how many dimensions our dataset has. \n",
    "\n",
    "**_HINT_**: Remember that every word is its own dimension!"
   ]
  },
  {
   "cell_type": "code",
   "execution_count": 19,
   "metadata": {},
   "outputs": [
    {
     "name": "stdout",
     "output_type": "stream",
     "text": [
      "Number of Dimensions: 46\n"
     ]
    }
   ],
   "source": [
    "# Count the unique words in the entire corpus\n",
    "unique_words = set()\n",
    "for doc in tf_idf_all_docs:\n",
    "    unique_words.update(doc.keys())\n",
    "\n",
    "num_dims = len(unique_words)\n",
    "print(f\"Number of Dimensions: {num_dims}\")"
   ]
  },
  {
   "cell_type": "markdown",
   "metadata": {},
   "source": [
    "There are too many dimensions for us to visualize! In order to make it understandable to human eyes, we'll need to reduce it to 2 or 3 dimensions.  \n",
    "\n",
    "To do this, we'll use a technique called **_t-SNE_** (short for _t-Stochastic Neighbors Embedding_).  This is too complex for us to code ourselves, so we'll make use of scikit-learn's implementation of it.  \n",
    "\n",
    "First, we need to pull the words out of the dictionaries stored in `tf_idf_all_docs` so that only the values remain, and store them in lists instead of dictionaries.  This is because the t-SNE only works with array-like objects, not dictionaries.  \n",
    "\n",
    "In the cell below, create a list of lists that contains a list representation of the values of each of the dictionaries stored in `tf_idf_all_docs`.  The same structure should remain -- e.g. the first list should contain only the values that were in the first dictionary in `tf_idf_all_docs`, and so on. "
   ]
  },
  {
   "cell_type": "code",
   "execution_count": 20,
   "metadata": {},
   "outputs": [
    {
     "name": "stdout",
     "output_type": "stream",
     "text": [
      "[0.0, 0.0, 0.0, 0.0, 0.0, 0.0, 0.0, 0.0, 0.0, 0.0]\n"
     ]
    },
    {
     "data": {
      "text/plain": [
       "[0.0, 0.0, 0.0, 0.0, 0.0, 0.0, 0.0, 0.0, 0.0, 0.0]"
      ]
     },
     "execution_count": 20,
     "metadata": {},
     "output_type": "execute_result"
    }
   ],
   "source": [
    "tf_idf_vals_list = [list(doc.values()) for doc in tf_idf_all_docs]\n",
    "\n",
    "# Print the first 10 values from the first document\n",
    "print(tf_idf_vals_list[0][:10])\n",
    "\n",
    "tf_idf_vals_list[0][:10]"
   ]
  },
  {
   "cell_type": "markdown",
   "metadata": {},
   "source": [
    "Now that we have only the values, we can use the `TSNE()` class from `sklearn` to transform our data appropriately. In the cell below, instantiate `TSNE()` with the following arguments:\n",
    "- `n_components=3` (so we can compare 2 vs 3 components when graphing)\n",
    "- `perplexity=19` (the highest number of neighbors explored given the size of our dataset)\n",
    "- `learning_rate=200` (a higher learning rate than using 'auto', to avoid getting stuck in a local minimum)\n",
    "- `init='random'` (so SKLearn will randomize the initialization)\n",
    "- `random_state=13` (so that random initialization won't be TOO random)\n",
    "\n",
    "Then, use the created object's `.fit_transform()` method to transform the data stored in `tf_idf_vals_list` into 3-dimensional data.  Then, inspect the newly transformed data to confirm that it has the correct dimensionality. "
   ]
  },
  {
   "cell_type": "code",
   "execution_count": 24,
   "metadata": {},
   "outputs": [
    {
     "ename": "ValueError",
     "evalue": "setting an array element with a sequence. The requested array has an inhomogeneous shape after 1 dimensions. The detected shape was (20,) + inhomogeneous part.",
     "output_type": "error",
     "traceback": [
      "\u001b[1;31m---------------------------------------------------------------------------\u001b[0m",
      "\u001b[1;31mValueError\u001b[0m                                Traceback (most recent call last)",
      "Cell \u001b[1;32mIn[24], line 6\u001b[0m\n\u001b[0;32m      4\u001b[0m \u001b[39m# Reduce the dimensionality using PCA\u001b[39;00m\n\u001b[0;32m      5\u001b[0m pca \u001b[39m=\u001b[39m PCA(n_components\u001b[39m=\u001b[39m\u001b[39m50\u001b[39m)  \u001b[39m# Adjust the number of components as needed\u001b[39;00m\n\u001b[1;32m----> 6\u001b[0m tf_idf_pca \u001b[39m=\u001b[39m pca\u001b[39m.\u001b[39;49mfit_transform(tf_idf_vals_list)\n\u001b[0;32m      8\u001b[0m \u001b[39m# Create a t-SNE object with 3 components\u001b[39;00m\n\u001b[0;32m      9\u001b[0m t_sne_object_3d \u001b[39m=\u001b[39m TSNE(n_components\u001b[39m=\u001b[39m\u001b[39m3\u001b[39m, perplexity\u001b[39m=\u001b[39m\u001b[39m19\u001b[39m, learning_rate\u001b[39m=\u001b[39m\u001b[39m200\u001b[39m, init\u001b[39m=\u001b[39m\u001b[39m'\u001b[39m\u001b[39mrandom\u001b[39m\u001b[39m'\u001b[39m, random_state\u001b[39m=\u001b[39m\u001b[39m13\u001b[39m)\n",
      "File \u001b[1;32mc:\\Users\\HP\\anaconda3\\envs\\learn-env\\lib\\site-packages\\sklearn\\utils\\_set_output.py:140\u001b[0m, in \u001b[0;36m_wrap_method_output.<locals>.wrapped\u001b[1;34m(self, X, *args, **kwargs)\u001b[0m\n\u001b[0;32m    138\u001b[0m \u001b[39m@wraps\u001b[39m(f)\n\u001b[0;32m    139\u001b[0m \u001b[39mdef\u001b[39;00m \u001b[39mwrapped\u001b[39m(\u001b[39mself\u001b[39m, X, \u001b[39m*\u001b[39margs, \u001b[39m*\u001b[39m\u001b[39m*\u001b[39mkwargs):\n\u001b[1;32m--> 140\u001b[0m     data_to_wrap \u001b[39m=\u001b[39m f(\u001b[39mself\u001b[39m, X, \u001b[39m*\u001b[39margs, \u001b[39m*\u001b[39m\u001b[39m*\u001b[39mkwargs)\n\u001b[0;32m    141\u001b[0m     \u001b[39mif\u001b[39;00m \u001b[39misinstance\u001b[39m(data_to_wrap, \u001b[39mtuple\u001b[39m):\n\u001b[0;32m    142\u001b[0m         \u001b[39m# only wrap the first output for cross decomposition\u001b[39;00m\n\u001b[0;32m    143\u001b[0m         return_tuple \u001b[39m=\u001b[39m (\n\u001b[0;32m    144\u001b[0m             _wrap_data_with_container(method, data_to_wrap[\u001b[39m0\u001b[39m], X, \u001b[39mself\u001b[39m),\n\u001b[0;32m    145\u001b[0m             \u001b[39m*\u001b[39mdata_to_wrap[\u001b[39m1\u001b[39m:],\n\u001b[0;32m    146\u001b[0m         )\n",
      "File \u001b[1;32mc:\\Users\\HP\\anaconda3\\envs\\learn-env\\lib\\site-packages\\sklearn\\base.py:1151\u001b[0m, in \u001b[0;36m_fit_context.<locals>.decorator.<locals>.wrapper\u001b[1;34m(estimator, *args, **kwargs)\u001b[0m\n\u001b[0;32m   1144\u001b[0m     estimator\u001b[39m.\u001b[39m_validate_params()\n\u001b[0;32m   1146\u001b[0m \u001b[39mwith\u001b[39;00m config_context(\n\u001b[0;32m   1147\u001b[0m     skip_parameter_validation\u001b[39m=\u001b[39m(\n\u001b[0;32m   1148\u001b[0m         prefer_skip_nested_validation \u001b[39mor\u001b[39;00m global_skip_validation\n\u001b[0;32m   1149\u001b[0m     )\n\u001b[0;32m   1150\u001b[0m ):\n\u001b[1;32m-> 1151\u001b[0m     \u001b[39mreturn\u001b[39;00m fit_method(estimator, \u001b[39m*\u001b[39margs, \u001b[39m*\u001b[39m\u001b[39m*\u001b[39mkwargs)\n",
      "File \u001b[1;32mc:\\Users\\HP\\anaconda3\\envs\\learn-env\\lib\\site-packages\\sklearn\\decomposition\\_pca.py:460\u001b[0m, in \u001b[0;36mPCA.fit_transform\u001b[1;34m(self, X, y)\u001b[0m\n\u001b[0;32m    437\u001b[0m \u001b[39m@_fit_context\u001b[39m(prefer_skip_nested_validation\u001b[39m=\u001b[39m\u001b[39mTrue\u001b[39;00m)\n\u001b[0;32m    438\u001b[0m \u001b[39mdef\u001b[39;00m \u001b[39mfit_transform\u001b[39m(\u001b[39mself\u001b[39m, X, y\u001b[39m=\u001b[39m\u001b[39mNone\u001b[39;00m):\n\u001b[0;32m    439\u001b[0m \u001b[39m    \u001b[39m\u001b[39m\"\"\"Fit the model with X and apply the dimensionality reduction on X.\u001b[39;00m\n\u001b[0;32m    440\u001b[0m \n\u001b[0;32m    441\u001b[0m \u001b[39m    Parameters\u001b[39;00m\n\u001b[1;32m   (...)\u001b[0m\n\u001b[0;32m    458\u001b[0m \u001b[39m    C-ordered array, use 'np.ascontiguousarray'.\u001b[39;00m\n\u001b[0;32m    459\u001b[0m \u001b[39m    \"\"\"\u001b[39;00m\n\u001b[1;32m--> 460\u001b[0m     U, S, Vt \u001b[39m=\u001b[39m \u001b[39mself\u001b[39;49m\u001b[39m.\u001b[39;49m_fit(X)\n\u001b[0;32m    461\u001b[0m     U \u001b[39m=\u001b[39m U[:, : \u001b[39mself\u001b[39m\u001b[39m.\u001b[39mn_components_]\n\u001b[0;32m    463\u001b[0m     \u001b[39mif\u001b[39;00m \u001b[39mself\u001b[39m\u001b[39m.\u001b[39mwhiten:\n\u001b[0;32m    464\u001b[0m         \u001b[39m# X_new = X * V / S * sqrt(n_samples) = U * sqrt(n_samples)\u001b[39;00m\n",
      "File \u001b[1;32mc:\\Users\\HP\\anaconda3\\envs\\learn-env\\lib\\site-packages\\sklearn\\decomposition\\_pca.py:483\u001b[0m, in \u001b[0;36mPCA._fit\u001b[1;34m(self, X)\u001b[0m\n\u001b[0;32m    477\u001b[0m \u001b[39mif\u001b[39;00m issparse(X):\n\u001b[0;32m    478\u001b[0m     \u001b[39mraise\u001b[39;00m \u001b[39mTypeError\u001b[39;00m(\n\u001b[0;32m    479\u001b[0m         \u001b[39m\"\u001b[39m\u001b[39mPCA does not support sparse input. See \u001b[39m\u001b[39m\"\u001b[39m\n\u001b[0;32m    480\u001b[0m         \u001b[39m\"\u001b[39m\u001b[39mTruncatedSVD for a possible alternative.\u001b[39m\u001b[39m\"\u001b[39m\n\u001b[0;32m    481\u001b[0m     )\n\u001b[1;32m--> 483\u001b[0m X \u001b[39m=\u001b[39m \u001b[39mself\u001b[39;49m\u001b[39m.\u001b[39;49m_validate_data(\n\u001b[0;32m    484\u001b[0m     X, dtype\u001b[39m=\u001b[39;49m[np\u001b[39m.\u001b[39;49mfloat64, np\u001b[39m.\u001b[39;49mfloat32], ensure_2d\u001b[39m=\u001b[39;49m\u001b[39mTrue\u001b[39;49;00m, copy\u001b[39m=\u001b[39;49m\u001b[39mself\u001b[39;49m\u001b[39m.\u001b[39;49mcopy\n\u001b[0;32m    485\u001b[0m )\n\u001b[0;32m    487\u001b[0m \u001b[39m# Handle n_components==None\u001b[39;00m\n\u001b[0;32m    488\u001b[0m \u001b[39mif\u001b[39;00m \u001b[39mself\u001b[39m\u001b[39m.\u001b[39mn_components \u001b[39mis\u001b[39;00m \u001b[39mNone\u001b[39;00m:\n",
      "File \u001b[1;32mc:\\Users\\HP\\anaconda3\\envs\\learn-env\\lib\\site-packages\\sklearn\\base.py:604\u001b[0m, in \u001b[0;36mBaseEstimator._validate_data\u001b[1;34m(self, X, y, reset, validate_separately, cast_to_ndarray, **check_params)\u001b[0m\n\u001b[0;32m    602\u001b[0m         out \u001b[39m=\u001b[39m X, y\n\u001b[0;32m    603\u001b[0m \u001b[39melif\u001b[39;00m \u001b[39mnot\u001b[39;00m no_val_X \u001b[39mand\u001b[39;00m no_val_y:\n\u001b[1;32m--> 604\u001b[0m     out \u001b[39m=\u001b[39m check_array(X, input_name\u001b[39m=\u001b[39m\u001b[39m\"\u001b[39m\u001b[39mX\u001b[39m\u001b[39m\"\u001b[39m, \u001b[39m*\u001b[39m\u001b[39m*\u001b[39mcheck_params)\n\u001b[0;32m    605\u001b[0m \u001b[39melif\u001b[39;00m no_val_X \u001b[39mand\u001b[39;00m \u001b[39mnot\u001b[39;00m no_val_y:\n\u001b[0;32m    606\u001b[0m     out \u001b[39m=\u001b[39m _check_y(y, \u001b[39m*\u001b[39m\u001b[39m*\u001b[39mcheck_params)\n",
      "File \u001b[1;32mc:\\Users\\HP\\anaconda3\\envs\\learn-env\\lib\\site-packages\\sklearn\\utils\\validation.py:917\u001b[0m, in \u001b[0;36mcheck_array\u001b[1;34m(array, accept_sparse, accept_large_sparse, dtype, order, copy, force_all_finite, ensure_2d, allow_nd, ensure_min_samples, ensure_min_features, estimator, input_name)\u001b[0m\n\u001b[0;32m    915\u001b[0m         array \u001b[39m=\u001b[39m xp\u001b[39m.\u001b[39mastype(array, dtype, copy\u001b[39m=\u001b[39m\u001b[39mFalse\u001b[39;00m)\n\u001b[0;32m    916\u001b[0m     \u001b[39melse\u001b[39;00m:\n\u001b[1;32m--> 917\u001b[0m         array \u001b[39m=\u001b[39m _asarray_with_order(array, order\u001b[39m=\u001b[39;49morder, dtype\u001b[39m=\u001b[39;49mdtype, xp\u001b[39m=\u001b[39;49mxp)\n\u001b[0;32m    918\u001b[0m \u001b[39mexcept\u001b[39;00m ComplexWarning \u001b[39mas\u001b[39;00m complex_warning:\n\u001b[0;32m    919\u001b[0m     \u001b[39mraise\u001b[39;00m \u001b[39mValueError\u001b[39;00m(\n\u001b[0;32m    920\u001b[0m         \u001b[39m\"\u001b[39m\u001b[39mComplex data not supported\u001b[39m\u001b[39m\\n\u001b[39;00m\u001b[39m{}\u001b[39;00m\u001b[39m\\n\u001b[39;00m\u001b[39m\"\u001b[39m\u001b[39m.\u001b[39mformat(array)\n\u001b[0;32m    921\u001b[0m     ) \u001b[39mfrom\u001b[39;00m \u001b[39mcomplex_warning\u001b[39;00m\n",
      "File \u001b[1;32mc:\\Users\\HP\\anaconda3\\envs\\learn-env\\lib\\site-packages\\sklearn\\utils\\_array_api.py:380\u001b[0m, in \u001b[0;36m_asarray_with_order\u001b[1;34m(array, dtype, order, copy, xp)\u001b[0m\n\u001b[0;32m    378\u001b[0m     array \u001b[39m=\u001b[39m numpy\u001b[39m.\u001b[39marray(array, order\u001b[39m=\u001b[39morder, dtype\u001b[39m=\u001b[39mdtype)\n\u001b[0;32m    379\u001b[0m \u001b[39melse\u001b[39;00m:\n\u001b[1;32m--> 380\u001b[0m     array \u001b[39m=\u001b[39m numpy\u001b[39m.\u001b[39;49masarray(array, order\u001b[39m=\u001b[39;49morder, dtype\u001b[39m=\u001b[39;49mdtype)\n\u001b[0;32m    382\u001b[0m \u001b[39m# At this point array is a NumPy ndarray. We convert it to an array\u001b[39;00m\n\u001b[0;32m    383\u001b[0m \u001b[39m# container that is consistent with the input's namespace.\u001b[39;00m\n\u001b[0;32m    384\u001b[0m \u001b[39mreturn\u001b[39;00m xp\u001b[39m.\u001b[39masarray(array)\n",
      "\u001b[1;31mValueError\u001b[0m: setting an array element with a sequence. The requested array has an inhomogeneous shape after 1 dimensions. The detected shape was (20,) + inhomogeneous part."
     ]
    }
   ],
   "source": [
    "from sklearn.decomposition import PCA\n",
    "from sklearn.manifold import TSNE\n",
    "\n",
    "# Reduce the dimensionality using PCA\n",
    "pca = PCA(n_components=50)  # Adjust the number of components as needed\n",
    "tf_idf_pca = pca.fit_transform(tf_idf_vals_list)\n",
    "\n",
    "# Create a t-SNE object with 3 components\n",
    "t_sne_object_3d = TSNE(n_components=3, perplexity=19, learning_rate=200, init='random', random_state=13)\n",
    "\n",
    "# Transform the PCA-reduced data into 3D\n",
    "transformed_data_3d = t_sne_object_3d.fit_transform(tf_idf_pca)\n",
    "transformed_data_3d\n",
    "\n",
    "\n"
   ]
  },
  {
   "cell_type": "code",
   "execution_count": 21,
   "metadata": {},
   "outputs": [
    {
     "ename": "ValueError",
     "evalue": "setting an array element with a sequence. The requested array has an inhomogeneous shape after 1 dimensions. The detected shape was (20,) + inhomogeneous part.",
     "output_type": "error",
     "traceback": [
      "\u001b[1;31m---------------------------------------------------------------------------\u001b[0m",
      "\u001b[1;31mValueError\u001b[0m                                Traceback (most recent call last)",
      "Cell \u001b[1;32mIn[21], line 8\u001b[0m\n\u001b[0;32m      5\u001b[0m t_sne_object_3d \u001b[39m=\u001b[39m TSNE(n_components\u001b[39m=\u001b[39m\u001b[39m3\u001b[39m, perplexity\u001b[39m=\u001b[39m\u001b[39m19\u001b[39m, learning_rate\u001b[39m=\u001b[39m\u001b[39m200\u001b[39m, init\u001b[39m=\u001b[39m\u001b[39m'\u001b[39m\u001b[39mrandom\u001b[39m\u001b[39m'\u001b[39m, random_state\u001b[39m=\u001b[39m\u001b[39m13\u001b[39m)\n\u001b[0;32m      7\u001b[0m \u001b[39m# Transform the data into 2D\u001b[39;00m\n\u001b[1;32m----> 8\u001b[0m transformed_data_3d \u001b[39m=\u001b[39m t_sne_object_3d\u001b[39m.\u001b[39mfit_transform(np\u001b[39m.\u001b[39;49marray(tf_idf_vals_list))\n\u001b[0;32m      9\u001b[0m transformed_data_3d\n",
      "\u001b[1;31mValueError\u001b[0m: setting an array element with a sequence. The requested array has an inhomogeneous shape after 1 dimensions. The detected shape was (20,) + inhomogeneous part."
     ]
    }
   ],
   "source": [
    "# Import the necessary library\n",
    "from sklearn.manifold import TSNE\n",
    "\n",
    "# Instantiate TSNE with 3 components for 3D visualization\n",
    "t_sne_object_3d = TSNE(n_components=3, perplexity=19, learning_rate=200, init='random', random_state=13)\n",
    "\n",
    "# Transform the data into 2D\n",
    "transformed_data_3d = t_sne_object_3d.fit_transform(np.array(tf_idf_vals_list))\n",
    "transformed_data_3d\n"
   ]
  },
  {
   "cell_type": "markdown",
   "metadata": {},
   "source": [
    "We'll also want to check out how the visualization looks in 2d.  Repeat the process above, but this time, instantiate `TSNE()` with 2 components instead of 3.  Again, use `.fit_transform()` to transform the data and store it in the variable below, and then inspect it to confirm the transformed data has only 2 dimensions. "
   ]
  },
  {
   "cell_type": "code",
   "execution_count": null,
   "metadata": {},
   "outputs": [],
   "source": [
    "t_sne_object_2d = None\n",
    "\n",
    "transformed_data_2d = t_sne_object_2d.fit_transform(np.array(tf_idf_vals_list))\n",
    "transformed_data_2d"
   ]
  },
  {
   "cell_type": "markdown",
   "metadata": {},
   "source": [
    "Now, let's visualize everything!  Run the cell below to view both 3D and 2D visualizations of the songs."
   ]
  },
  {
   "cell_type": "code",
   "execution_count": null,
   "metadata": {},
   "outputs": [],
   "source": [
    "kendrick_3d = transformed_data_3d[:10]\n",
    "k3_x = [i[0] for i in kendrick_3d]\n",
    "k3_y = [i[1] for i in kendrick_3d]\n",
    "k3_z = [i[2] for i in kendrick_3d]\n",
    "\n",
    "garth_3d = transformed_data_3d[10:]\n",
    "g3_x = [i[0] for i in garth_3d]\n",
    "g3_y = [i[1] for i in garth_3d]\n",
    "g3_z = [i[2] for i in garth_3d]\n",
    "\n",
    "fig = plt.figure(figsize=(10,5))\n",
    "ax = fig.add_subplot(111, projection='3d')\n",
    "ax.scatter(k3_x, k3_y, k3_z, c='b', s=60, label='Kendrick')\n",
    "ax.scatter(g3_x, g3_y, g3_z, c='red', s=60, label='Garth')\n",
    "ax.view_init(40,10)\n",
    "ax.legend()\n",
    "plt.show()\n",
    "\n",
    "kendrick_2d = transformed_data_2d[:10]\n",
    "k2_x = [i[0] for i in kendrick_2d]\n",
    "k2_y = [i[1] for i in kendrick_2d]\n",
    "\n",
    "garth_2d = transformed_data_2d[10:]\n",
    "g2_x = [i[0] for i in garth_2d]\n",
    "g2_y = [i[1] for i in garth_2d]\n",
    "\n",
    "fig = plt.figure(figsize=(20,10))\n",
    "ax = fig.add_subplot(222)\n",
    "ax.scatter(k2_x, k2_y, c='b', label='Kendrick')\n",
    "ax.scatter(g2_x, g2_y, c='red', label='Garth')\n",
    "ax.legend()\n",
    "plt.show()"
   ]
  },
  {
   "cell_type": "markdown",
   "metadata": {},
   "source": [
    "Interesting! Take a crack at interpreting these graphs by answering the following questions below:\n",
    "\n",
    "What does each graph mean? Do you find one graph more informative than the other? Do you think that this method shows us discernable differences between Kendrick Lamar songs and Garth Brooks songs?  Use the graphs and your understanding of TF-IDF to support your answer.  "
   ]
  },
  {
   "cell_type": "code",
   "execution_count": null,
   "metadata": {},
   "outputs": [],
   "source": [
    "'''\n",
    "WRITE YOUR ANSWER HERE\n",
    "'''"
   ]
  },
  {
   "cell_type": "markdown",
   "metadata": {},
   "source": [
    "## Summary\n",
    "\n",
    "In this lab, you learned how to: \n",
    "* Tokenize a corpus of words and identify the different choices to be made while parsing them \n",
    "* Use a count vectorization strategy to create a bag of words\n",
    "* Use TF-IDF vectorization with multiple documents to identify words that are important/unique to certain documents\n",
    "* Visualize and compare vectorized text documents"
   ]
  }
 ],
 "metadata": {
  "kernelspec": {
   "display_name": "learn-env",
   "language": "python",
   "name": "python3"
  },
  "language_info": {
   "codemirror_mode": {
    "name": "ipython",
    "version": 3
   },
   "file_extension": ".py",
   "mimetype": "text/x-python",
   "name": "python",
   "nbconvert_exporter": "python",
   "pygments_lexer": "ipython3",
   "version": "3.10.11"
  }
 },
 "nbformat": 4,
 "nbformat_minor": 2
}
